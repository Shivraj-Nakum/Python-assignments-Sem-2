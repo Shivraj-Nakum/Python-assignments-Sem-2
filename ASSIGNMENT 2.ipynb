{
  "nbformat": 4,
  "nbformat_minor": 0,
  "metadata": {
    "colab": {
      "name": "Untitled2.ipynb",
      "provenance": []
    },
    "kernelspec": {
      "name": "python3",
      "display_name": "Python 3"
    },
    "language_info": {
      "name": "python"
    }
  },
  "cells": [
    {
      "cell_type": "code",
      "execution_count": 1,
      "metadata": {
        "colab": {
          "base_uri": "https://localhost:8080/"
        },
        "id": "9ejv2pJ-xRJK",
        "outputId": "b23c10ea-5996-4254-b40f-f84551e0817b"
      },
      "outputs": [
        {
          "output_type": "stream",
          "name": "stdout",
          "text": [
            "Q1:take two float as input and print all the permutations of the applicable operators on them.\n",
            "Enter first value 2.6\n",
            "Enter second value 6.4\n",
            "9.0\n",
            "-3.8000000000000003\n",
            "16.64\n",
            "0.40625\n",
            "2.6\n",
            "452.719735313402\n",
            "0.0\n",
            "9.0\n",
            "2.5999999999999996\n",
            "16.639999999999997\n",
            "2.599999999999999\n",
            "2.599999999999999\n",
            "0.0\n",
            "0.0\n",
            "False\n",
            "True\n",
            "False\n",
            "True\n",
            "False\n",
            "True\n",
            "0.0\n",
            "False\n",
            "6.4\n",
            "True\n",
            "True\n"
          ]
        }
      ],
      "source": [
        "# Question 1\n",
        "print(\"Q1:take two float as input and print all the permutations of the applicable operators on them.\")\n",
        "a = float(input(\"Enter first value \"))\n",
        "b = float(input(\"Enter second value \"))\n",
        "# 1. Addition (+)\n",
        "print(a+b)\n",
        "\n",
        "# 2. Subtraction (-)\n",
        "print(a-b)\n",
        "\n",
        "# 3. Multiplication (*)\n",
        "print(a*b)\n",
        "\n",
        "# 4. Division (/)\n",
        "print(a/b)\n",
        "\n",
        "# 5. Modulus(%)\n",
        "print(a % b)\n",
        "\n",
        "# 6. Exponentiation (**)\n",
        "print(a**b)\n",
        "\n",
        "# 7. Floor Division (//)\n",
        "print(a//b)\n",
        "\n",
        "\n",
        "# 2. Assignment Operators:\n",
        "\n",
        "# \"+=\" Operator\n",
        "a += b\n",
        "print(a)\n",
        "\n",
        "# '-=' Operator\n",
        "a -= b\n",
        "print(a)\n",
        "\n",
        "# '*=' Operator\n",
        "a *= b\n",
        "print(a)\n",
        "\n",
        "# '/=' Operator\n",
        "a /= b\n",
        "print(a)\n",
        "\n",
        "# '%=' Operator\n",
        "a %= b\n",
        "print(a)\n",
        "\n",
        "# '//=' Operator\n",
        "a //= b\n",
        "print(a)\n",
        "\n",
        "# \"**=\"\n",
        "a **= b\n",
        "print(a)\n",
        "0.0\n",
        "# 3. Comparison Operators:\n",
        "\n",
        "# Equal (==) Operator\n",
        "print(a == b)\n",
        "\n",
        "# Not equal (!=) Operator\n",
        "print(a != b)\n",
        "\n",
        "# Greater than (>) Operator\n",
        "print(a > b)\n",
        "\n",
        "# Less than (<) Operator\n",
        "print(a < b)\n",
        "\n",
        "# Greater than or equal to (>=) Operator\n",
        "print(a >= b)\n",
        "\n",
        "# Less than or equal to (<=) Operator\n",
        "print(a <= b)\n",
        "\n",
        "\n",
        "# 4. Logical Operators:\n",
        "\n",
        "# 'and' Operator :\n",
        "print(a and b)\n",
        "print(a < 3 and b < 5)\n",
        "\n",
        "# 'or' Operator :\n",
        "print(a or b)\n",
        "print(a < 3 or b < 5)\n",
        "\n",
        "# 'not' Operator:\n",
        "print(not(a < 3 and b < 5))"
      ]
    },
    {
      "cell_type": "code",
      "source": [
        "print(\"Take 5 interger values as input and print the quotient and remainder when the maximum of them is divided by the minimum of them\")\n",
        "lst = []\n",
        "\n",
        "num = 5\n",
        "\n",
        "for n in range(num):\n",
        "    numbers = int(input('Enter number:'))\n",
        "    lst.append(numbers)\n",
        "\n",
        "q = max(lst)//min(lst)\n",
        "print(\"Quotient is\", q)\n",
        "r = max(lst) % min(lst)\n",
        "print(\"Remainder is\", r)"
      ],
      "metadata": {
        "colab": {
          "base_uri": "https://localhost:8080/"
        },
        "id": "R7Uwdzg9yHc1",
        "outputId": "677a9bb9-d3a3-419b-8212-9f1d3a6ef844"
      },
      "execution_count": 2,
      "outputs": [
        {
          "output_type": "stream",
          "name": "stdout",
          "text": [
            "Take 5 interger values as input and print the quotient and remainder when the maximum of them is divided by the minimum of them\n",
            "Enter number:6\n",
            "Enter number:7\n",
            "Enter number:9\n",
            "Enter number:4\n",
            "Enter number:3\n",
            "Quotient is 3\n",
            "Remainder is 0\n"
          ]
        }
      ]
    }
  ]
}