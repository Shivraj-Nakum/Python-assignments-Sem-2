{
  "nbformat": 4,
  "nbformat_minor": 0,
  "metadata": {
    "colab": {
      "name": "Untitled17.ipynb",
      "provenance": []
    },
    "kernelspec": {
      "name": "python3",
      "display_name": "Python 3"
    },
    "language_info": {
      "name": "python"
    }
  },
  "cells": [
    {
      "cell_type": "markdown",
      "source": [
        "#Name - SHIVRAJ NAKUM\n",
        "\n",
        "#Roll no. - 21BCP125\n",
        "\n",
        "#DIV 1\n",
        "#G4"
      ],
      "metadata": {
        "id": "tK8PICeX4iIr"
      }
    },
    {
      "cell_type": "code",
      "execution_count": 1,
      "metadata": {
        "colab": {
          "base_uri": "https://localhost:8080/"
        },
        "id": "F4dRyGWT4hOI",
        "outputId": "d2cac85d-1034-4077-cefd-ab98996acc56"
      },
      "outputs": [
        {
          "output_type": "stream",
          "name": "stdout",
          "text": [
            "Sorted array is:\n",
            "1\n",
            "2\n",
            "10\n",
            "22\n",
            "23\n"
          ]
        }
      ],
      "source": [
        "#BUBBLE SORT\n",
        "def bubbleSort(arr):\n",
        "\n",
        "    n = len(arr)\n",
        "\n",
        "    \n",
        "    for i in range(n):\n",
        "        for j in range(0, n - i - 1):\n",
        "            if arr[j] > arr[j + 1]:\n",
        "                arr[j], arr[j + 1] = arr[j + 1], arr[j]\n",
        "\n",
        "arr = [ 2, 1, 10, 23, 22]\n",
        "\n",
        "bubbleSort(arr)\n",
        "\n",
        "print(\"Sorted array is:\")\n",
        "for i in range(len(arr)):\n",
        "    print(\"%d\" % arr[i])"
      ]
    },
    {
      "cell_type": "code",
      "source": [
        "#SELECTION SORT\n",
        "def selectionSort(array, size):\n",
        "    for s in range(size):\n",
        "        min_idx = s\n",
        "        for i in range(s + 1, size):\n",
        "            if array[i] < array[min_idx]:\n",
        "                min_idx = i\n",
        "        (array[s], array[min_idx]) = (array[min_idx], array[s])\n",
        "\n",
        "data = [ 7, 2, 1, 6,0]\n",
        "size = len(data)\n",
        "selectionSort(data, size)\n",
        "\n",
        "print('Sorted Array in Ascending Order is :')\n",
        "print(data)"
      ],
      "metadata": {
        "colab": {
          "base_uri": "https://localhost:8080/"
        },
        "id": "f6TwUuMf4v52",
        "outputId": "f1cd991b-4b43-47bd-9964-da743a703cc4"
      },
      "execution_count": 2,
      "outputs": [
        {
          "output_type": "stream",
          "name": "stdout",
          "text": [
            "Sorted Array in Ascending Order is :\n",
            "[0, 1, 2, 6, 7]\n"
          ]
        }
      ]
    }
  ]
}