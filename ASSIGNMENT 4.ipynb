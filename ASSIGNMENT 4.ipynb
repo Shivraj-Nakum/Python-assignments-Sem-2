{
  "nbformat": 4,
  "nbformat_minor": 0,
  "metadata": {
    "colab": {
      "name": "Untitled5.ipynb",
      "provenance": []
    },
    "kernelspec": {
      "name": "python3",
      "display_name": "Python 3"
    },
    "language_info": {
      "name": "python"
    }
  },
  "cells": [
    {
      "cell_type": "code",
      "execution_count": 2,
      "metadata": {
        "colab": {
          "base_uri": "https://localhost:8080/"
        },
        "id": "i9yvZxjt2ItE",
        "outputId": "bcbda3c8-4579-4853-dec6-b2660560e196"
      },
      "outputs": [
        {
          "output_type": "stream",
          "name": "stdout",
          "text": [
            "Enter the value of a:7\n",
            "Enter the value of b:6\n",
            "Enter the value of a:7\n",
            "Enter the value of b:6\n",
            "Adding 7 with 6: 13\n",
            "Substract 6 with 7: 1\n",
            "multiply 7 with 6: 42\n",
            "divide 7 with 6: 1.1666666666666667\n",
            "None\n"
          ]
        }
      ],
      "source": [
        "# 1. Take a single input from  user and return its integer value.\n",
        "a = int(input(\"Enter the value of a:\"))\n",
        "b = int(input(\"Enter the value of b:\"))\n",
        "\n",
        "# 2.Print the results of the  arithmetic operations\n",
        "\n",
        "\n",
        "def arith(a, b):\n",
        "    sum = a+b\n",
        "    print('Adding {0} with {1}: {2}'.format(a, b, sum))\n",
        "    sub = a-b\n",
        "    print('Substract {1} with {0}: {2}'.format(a, b, sub))\n",
        "    multi = a*b\n",
        "    print('multiply {0} with {1}: {2}'.format(a, b, multi))\n",
        "    div = a/b\n",
        "    if(b != 0):\n",
        "        print('divide {0} with {1}: {2}'.format(a, b, div))\n",
        "    else:\n",
        "        print(\"Not defined\")\n",
        "\n",
        "\n",
        "a = int(input(\"Enter the value of a:\"))\n",
        "b = int(input(\"Enter the value of b:\"))\n",
        "print(arith(a, b))\n"
      ]
    }
  ]
}