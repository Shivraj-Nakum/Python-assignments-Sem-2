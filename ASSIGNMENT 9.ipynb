{
  "nbformat": 4,
  "nbformat_minor": 0,
  "metadata": {
    "colab": {
      "name": "Untitled16.ipynb",
      "provenance": []
    },
    "kernelspec": {
      "name": "python3",
      "display_name": "Python 3"
    },
    "language_info": {
      "name": "python"
    }
  },
  "cells": [
    {
      "cell_type": "markdown",
      "source": [
        "# SHIVRAJ NAKUM\n",
        "## 21BCP125\n",
        "# D1 \n",
        "#G4"
      ],
      "metadata": {
        "id": "qwXxsC-atHhR"
      }
    },
    {
      "cell_type": "code",
      "execution_count": 1,
      "metadata": {
        "colab": {
          "base_uri": "https://localhost:8080/"
        },
        "id": "Xo_t3kcWshEW",
        "outputId": "a223404f-0c1b-44a0-b00f-07a9a99eff70"
      },
      "outputs": [
        {
          "output_type": "stream",
          "name": "stdout",
          "text": [
            "Scooby Dobby 5\n"
          ]
        }
      ],
      "source": [
        "#INHERITANCE\n",
        "class Animal:\n",
        "    def __init__(self, name,age1):\n",
        "        self.givenname = name\n",
        "        self.age = age1\n",
        "    def printname(self):\n",
        "        print(self.givenname,self.age)\n",
        "class Dog(Animal):\n",
        "    pass\n",
        "\n",
        "x = Dog(\"Scooby Dobby\", \"5\")\n",
        "x.printname()"
      ]
    },
    {
      "cell_type": "code",
      "source": [
        "#INHERITANCE SUPER FUNCTION\n",
        "class Animal:\n",
        "    def __init__(self, name,age1):\n",
        "        self.givenname = name\n",
        "        self.age = age1\n",
        "    def printname(self):\n",
        "        print(self.givenname,self.age)\n",
        "\n",
        "\n",
        "class Dog(Animal):\n",
        "    def __init__(self, name, age):\n",
        "        super().__init__(name, age)\n",
        "        self.owner = 'Sam is a Dog'\n",
        "\n",
        "x = Dog(\"Scooby\", \"5\")\n",
        "x.printname()\n",
        "print(x.owner)"
      ],
      "metadata": {
        "colab": {
          "base_uri": "https://localhost:8080/"
        },
        "id": "SaaLU8_9soMs",
        "outputId": "86ac5cc2-b7d7-46b8-cb5c-80f1d3d066bf"
      },
      "execution_count": 2,
      "outputs": [
        {
          "output_type": "stream",
          "name": "stdout",
          "text": [
            "Scooby 5\n",
            "Sam is a Dog\n"
          ]
        }
      ]
    },
    {
      "cell_type": "code",
      "source": [
        "#ENCAPSULATION\n",
        "class Rectangle:\n",
        "    length = 2 #privatevariable\n",
        "    breadth = 5 #private variable\n",
        "    def init (self): #constructor\n",
        "        self.__length = 5\n",
        "        self.__breadth = 3\n",
        "        #printing valuesoftheprivatevariablewithintheclass\n",
        "        print(self.__length)\n",
        "        print(self.__breadth)\n",
        "rec = Rectangle() #object created for the class 'Rectangle'\n",
        "#printing values of the private variable outside the class\n",
        "# using the object created for the class 'Rectangle'\n",
        "print(rec.length)\n",
        "print(rec.breadth)"
      ],
      "metadata": {
        "colab": {
          "base_uri": "https://localhost:8080/"
        },
        "id": "BoNYQltKsuUC",
        "outputId": "0565b68b-28d1-4466-f131-1dd0d0675b8c"
      },
      "execution_count": 3,
      "outputs": [
        {
          "output_type": "stream",
          "name": "stdout",
          "text": [
            "2\n",
            "5\n"
          ]
        }
      ]
    },
    {
      "cell_type": "code",
      "source": [
        "class Dog():\n",
        "    def makeNoise(self):\n",
        "        print(\"He say bow wow.\")\n",
        "\n",
        "class Cat():\n",
        "    def makeNoise(self):\n",
        "        print(\"He say mew mew\")\n",
        "\n",
        "obj_d = Dog()\n",
        "obj_c = Cat()\n",
        "obj_d.makeNoise()\n",
        "obj_c.makeNoise()"
      ],
      "metadata": {
        "colab": {
          "base_uri": "https://localhost:8080/"
        },
        "id": "m7oS_H4hsyEG",
        "outputId": "d96b9053-4f45-421a-d391-6b4469ba6d0b"
      },
      "execution_count": 4,
      "outputs": [
        {
          "output_type": "stream",
          "name": "stdout",
          "text": [
            "He say bow wow.\n",
            "He say mew mew\n"
          ]
        }
      ]
    },
    {
      "cell_type": "code",
      "source": [
        "# INHERITANCE\n",
        "\n",
        "# parent class\n",
        "class Bird:\n",
        "    \n",
        "    def __init__(self):\n",
        "        print(\"Bird is ready\")\n",
        "\n",
        "    def whoisThis(self):\n",
        "        print(\"Bird\")\n",
        "\n",
        "    def swim(self):\n",
        "        print(\"Swim faster\")\n",
        "\n",
        "# child class\n",
        "class Penguin(Bird):\n",
        "\n",
        "    def __init__(self):\n",
        "        # call super() function\n",
        "        super().__init__()\n",
        "        print(\"Penguin is ready\")\n",
        "\n",
        "    def whoisThis(self):\n",
        "        print(\"Penguin\")\n",
        "\n",
        "    def run(self):\n",
        "        print(\"Run faster\")\n",
        "\n",
        "peggy = Penguin()\n",
        "peggy.whoisThis()\n",
        "peggy.swim()\n",
        "peggy.run()"
      ],
      "metadata": {
        "colab": {
          "base_uri": "https://localhost:8080/"
        },
        "id": "T3mzCN8ps1bF",
        "outputId": "0269676e-c968-4690-8350-a6402559a7a6"
      },
      "execution_count": 5,
      "outputs": [
        {
          "output_type": "stream",
          "name": "stdout",
          "text": [
            "Bird is ready\n",
            "Penguin is ready\n",
            "Penguin\n",
            "Swim faster\n",
            "Run faster\n"
          ]
        }
      ]
    },
    {
      "cell_type": "code",
      "source": [
        "# ENCAPSULATION\n",
        "\n",
        "class Computer:\n",
        "\n",
        "    def __init__(self):\n",
        "        self.__maxprice = 800\n",
        "\n",
        "    def sell(self):\n",
        "        print(\"Selling Price: {0}\".format(self.__maxprice))\n",
        "\n",
        "    def setMaxPrice(self, price):\n",
        "        self.__maxprice = price\n",
        "\n",
        "c = Computer()\n",
        "c.sell()\n",
        "\n",
        "# change the price\n",
        "c.__maxprice = 1000\n",
        "c.sell()\n",
        "\n",
        "# using setter function\n",
        "c.setMaxPrice(1000)\n",
        "c.sell()"
      ],
      "metadata": {
        "colab": {
          "base_uri": "https://localhost:8080/"
        },
        "id": "BtNE0Z6Ps59k",
        "outputId": "864ef98f-a958-45bb-f010-9d7918fe50df"
      },
      "execution_count": 6,
      "outputs": [
        {
          "output_type": "stream",
          "name": "stdout",
          "text": [
            "Selling Price: 800\n",
            "Selling Price: 800\n",
            "Selling Price: 1000\n"
          ]
        }
      ]
    },
    {
      "cell_type": "code",
      "source": [
        "# POLYMORPHISM\n",
        "class Parrot:\n",
        "\n",
        "    def fly(self):\n",
        "        print(\"Parrot can fly\")\n",
        "    \n",
        "    def swim(self):\n",
        "        print(\"Parrot can't swim\")\n",
        "\n",
        "class Penguin:\n",
        "\n",
        "    def fly(self):\n",
        "        print(\"Penguin can't fly\")\n",
        "    \n",
        "    def swim(self):\n",
        "        print(\"Penguin can swim\")\n",
        "\n",
        "# common interface\n",
        "def flying_test(bird):\n",
        "    bird.fly()\n",
        "\n",
        "#instantiate objects\n",
        "blu = Parrot()\n",
        "peggy = Penguin()\n",
        "\n",
        "# passing the object\n",
        "flying_test(blu)\n",
        "flying_test(peggy)"
      ],
      "metadata": {
        "colab": {
          "base_uri": "https://localhost:8080/"
        },
        "id": "uXK9g-jCs_Bs",
        "outputId": "3f4a9c3d-72a7-4d33-996e-5d5c35611d56"
      },
      "execution_count": 7,
      "outputs": [
        {
          "output_type": "stream",
          "name": "stdout",
          "text": [
            "Parrot can fly\n",
            "Penguin can't fly\n"
          ]
        }
      ]
    }
  ]
}