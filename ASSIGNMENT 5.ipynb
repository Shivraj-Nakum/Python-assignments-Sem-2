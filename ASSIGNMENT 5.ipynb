{
  "nbformat": 4,
  "nbformat_minor": 0,
  "metadata": {
    "colab": {
      "name": "Untitled7.ipynb",
      "provenance": []
    },
    "kernelspec": {
      "name": "python3",
      "display_name": "Python 3"
    },
    "language_info": {
      "name": "python"
    }
  },
  "cells": [
    {
      "cell_type": "markdown",
      "source": [
        "NAME - **SHIVRAJ**\n",
        "\n",
        "\n",
        "\n",
        "\n",
        "Roll no.-** 21BCP125**\n",
        "\n",
        "\n",
        "**Division - 1**"
      ],
      "metadata": {
        "id": "fZnuJRkdIPl5"
      }
    },
    {
      "cell_type": "code",
      "execution_count": 1,
      "metadata": {
        "colab": {
          "base_uri": "https://localhost:8080/"
        },
        "id": "oXIAs3QRINK2",
        "outputId": "246e0f39-7f39-417f-8d43-296764b44b56"
      },
      "outputs": [
        {
          "output_type": "stream",
          "name": "stdout",
          "text": [
            " enter any number 3\n",
            "enter any number 0\n",
            "Exception Caught ZERO DIVISION ERROR\n"
          ]
        }
      ],
      "source": [
        "# To handle zero divison error\n",
        "try:\n",
        "    num1 = int(input(\" enter any number \"))\n",
        "    num2 = int(input(\"enter any number \"))\n",
        "    res = num1/num2\n",
        "    print(res)\n",
        "except:\n",
        "    print(\"Exception Caught ZERO DIVISION ERROR\")"
      ]
    },
    {
      "cell_type": "code",
      "source": [
        "# To handle error while working with file\n",
        "filename = input(\"Enter the file name:\")\n",
        "try:\n",
        "    f_obj = open(filename)\n",
        "    content = f_obj.read()\n",
        "except FileNotFoundError:\n",
        "    msg = \"The file \" + filename + \" does not exist.\"\n",
        "    print(msg)\n",
        "else:\n",
        "    print(content)\n",
        "    f_obj.close()"
      ],
      "metadata": {
        "colab": {
          "base_uri": "https://localhost:8080/"
        },
        "id": "Kep1SdtQIzk0",
        "outputId": "593dab4e-9c78-4d35-e67f-494d35a4b57d"
      },
      "execution_count": 2,
      "outputs": [
        {
          "output_type": "stream",
          "name": "stdout",
          "text": [
            "Enter the file name:lion\n",
            "The file lion does not exist.\n"
          ]
        }
      ]
    },
    {
      "cell_type": "code",
      "source": [
        "#To handle value error\n",
        "from math import sqrt\n",
        "num = int(input(\"Enter a integer:\"))\n",
        "try:\n",
        "    print(sqrt(num))\n",
        "except:\n",
        "    print(\"Entered incorrect value\")"
      ],
      "metadata": {
        "colab": {
          "base_uri": "https://localhost:8080/"
        },
        "id": "vzptXNyaI4Ln",
        "outputId": "2c3fcbe4-2e0a-4cf2-a747-4c710904489a"
      },
      "execution_count": 3,
      "outputs": [
        {
          "output_type": "stream",
          "name": "stdout",
          "text": [
            "Enter a integer:36\n",
            "6.0\n"
          ]
        }
      ]
    }
  ]
}