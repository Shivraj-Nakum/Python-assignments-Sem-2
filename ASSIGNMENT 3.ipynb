{
  "nbformat": 4,
  "nbformat_minor": 0,
  "metadata": {
    "colab": {
      "name": "Untitled4.ipynb",
      "provenance": []
    },
    "kernelspec": {
      "name": "python3",
      "display_name": "Python 3"
    },
    "language_info": {
      "name": "python"
    }
  },
  "cells": [
    {
      "cell_type": "code",
      "source": [
        " # Input an integer,and print the multiplication table for the number.\n",
        "num = int(input(\"Enter the number:\"))\n",
        " print(\"Multiplication Table of \", num)\n",
        " for i in range(1, 11):\n",
        "     print(num, 'x', i, '=', num*i)"
      ],
      "metadata": {
        "colab": {
          "base_uri": "https://localhost:8080/"
        },
        "id": "PSAAZEyYxycS",
        "outputId": "d4914fa9-d25c-42ac-8ecd-6f6de315008c"
      },
      "execution_count": 5,
      "outputs": [
        {
          "output_type": "stream",
          "name": "stdout",
          "text": [
            "Enter the number:3\n",
            "Multiplication Table of  3\n",
            "3 x 1 = 3\n",
            "3 x 2 = 6\n",
            "3 x 3 = 9\n",
            "3 x 4 = 12\n",
            "3 x 5 = 15\n",
            "3 x 6 = 18\n",
            "3 x 7 = 21\n",
            "3 x 8 = 24\n",
            "3 x 9 = 27\n",
            "3 x 10 = 30\n"
          ]
        }
      ]
    },
    {
      "cell_type": "code",
      "source": [
        "# Input 10 characters using while loop and count how many vowels are there.\n",
        "str = input(\"Please enter a string as you wish:\")\n",
        "vowels = 0\n",
        "for i in str:\n",
        "    if(i == 'a' or i == 'e' or i == 'i' or i == 'o' or i == 'u' or i == 'A' or i == 'E' or i == 'I' or i == 'O' or i == 'U'):\n",
        "        vowels += 1\n",
        "print(\"The number of vowels:\", vowels)"
      ],
      "metadata": {
        "colab": {
          "base_uri": "https://localhost:8080/"
        },
        "id": "ce_vBJQP0Abr",
        "outputId": "9b65eb2e-6d64-4ec0-85f9-93186c27da83"
      },
      "execution_count": 13,
      "outputs": [
        {
          "output_type": "stream",
          "name": "stdout",
          "text": [
            "Please enter a string as you wish:apple\n",
            "The number of vowels: 2\n"
          ]
        }
      ]
    },
    {
      "cell_type": "code",
      "source": [
        "# Find sum of numbers from 1 to 100 which are divisible by either 2 or 3\n",
        "n = []\n",
        "for x in range(1, 100):\n",
        "    if(x % 2 == 0 or x % 3 == 0):\n",
        "        n.append(x)\n",
        "print(sum(n))"
      ],
      "metadata": {
        "colab": {
          "base_uri": "https://localhost:8080/"
        },
        "id": "nYiSrH0E0M_D",
        "outputId": "5889b88c-4e08-4b38-8727-59055fe12477"
      },
      "execution_count": 14,
      "outputs": [
        {
          "output_type": "stream",
          "name": "stdout",
          "text": [
            "3317\n"
          ]
        }
      ]
    },
    {
      "cell_type": "code",
      "source": [
        "# Input a float number which will be the side of square,prompt user to enter a positive value if user inputs a negative value.Finally calculate the area of the square.\n",
        "\n",
        "n1 = float(input(\"enter the number\"))\n",
        "\n",
        "for i in range(1):\n",
        "    if(n1 < 0):\n",
        "        continue\n",
        "    else:\n",
        "        print(n1*n1)"
      ],
      "metadata": {
        "colab": {
          "base_uri": "https://localhost:8080/"
        },
        "id": "YeiToakq0Q34",
        "outputId": "796c524a-f731-409a-a244-8a2f1a4076ec"
      },
      "execution_count": 15,
      "outputs": [
        {
          "output_type": "stream",
          "name": "stdout",
          "text": [
            "enter the number5\n",
            "25.0\n"
          ]
        }
      ]
    }
  ]
}