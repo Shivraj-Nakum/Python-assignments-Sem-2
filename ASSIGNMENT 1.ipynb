{
  "nbformat": 4,
  "nbformat_minor": 0,
  "metadata": {
    "colab": {
      "name": "Untitled0.ipynb",
      "provenance": []
    },
    "kernelspec": {
      "name": "python3",
      "display_name": "Python 3"
    },
    "language_info": {
      "name": "python"
    }
  },
  "cells": [
    {
      "cell_type": "code",
      "source": [
        "print(\"Take 2 float values to add, subtract, multiply and divide them and print their fractional representation\")\n",
        "num1 = input(\"Enter first number: \")\n",
        "num2 = input(\"Enter second number: \")\n",
        "sum = float(num1)+float(num2)\n",
        "print(\"Sum of two number is \", sum)\n",
        "sub = float(num1) - float(num2)\n",
        "print(\"Sub of two number is\", sub)\n",
        "multi = float(num1) * float(num2)\n",
        "print(\"Multi of two number is \", multi)\n",
        "div = float(num1) / float(num2)\n",
        "print(\"Div of two number is \", div)"
      ],
      "metadata": {
        "colab": {
          "base_uri": "https://localhost:8080/"
        },
        "id": "flOTTGBsOfcN",
        "outputId": "e076c22c-6812-436d-a393-c640ef86687d"
      },
      "execution_count": 2,
      "outputs": [
        {
          "output_type": "stream",
          "name": "stdout",
          "text": [
            "Take 2 float values to add, subtract, multiply and divide them and print their fractional representation\n",
            "Enter first number: 1.4\n",
            "Enter second number: 1.5\n",
            "Sum of two number is  2.9\n",
            "Sub of two number is -0.10000000000000009\n",
            "Multi of two number is  2.0999999999999996\n",
            "Div of two number is  0.9333333333333332\n"
          ]
        }
      ]
    },
    {
      "cell_type": "code",
      "source": [
        "print(\"Take 5 float values as input and print the min and max of them all\")\n",
        "num1 = input(\"Enter first number: \")\n",
        "num2 = input(\"Enter second number: \")\n",
        "num3 = input(\"Enter third number: \")\n",
        "num4 = input(\"Enter fourth number: \")\n",
        "num5 = input(\"Enter fifth number: \")\n",
        "a = min(float(num1), float(num2), float(num3), float(num4), float(num5))\n",
        "print(\"Min value:\", a)\n",
        "b = max(float(num1), float(num2), float(num3), float(num4), float(num5))\n",
        "print(\"Max value:\", b)\n"
      ],
      "metadata": {
        "colab": {
          "base_uri": "https://localhost:8080/"
        },
        "id": "F6GAqiRZO4I1",
        "outputId": "e50cc0b7-1c42-41d2-b847-ce5283d6b14c"
      },
      "execution_count": 3,
      "outputs": [
        {
          "output_type": "stream",
          "name": "stdout",
          "text": [
            "Take 5 float values as input and print the min and max of them all\n",
            "Enter first number: 2.1\n",
            "Enter second number: 2.4\n",
            "Enter third number: 2.7\n",
            "Enter fourth number: 3.5\n",
            "Enter fifth number: 4.1\n",
            "Min value: 2.1\n",
            "Max value: 4.1\n"
          ]
        }
      ]
    },
    {
      "cell_type": "code",
      "source": [
        "print(\"Print your name in uppercase, lowercase and titlecase\")\n",
        "c = input(\"Enter your name: \")\n",
        "print(c.upper())\n",
        "print(c.lower())\n",
        "print(c.title())"
      ],
      "metadata": {
        "colab": {
          "base_uri": "https://localhost:8080/"
        },
        "id": "PoqHry6CPEGZ",
        "outputId": "1bf7774d-11ae-4f38-a00f-d71aa9c3f475"
      },
      "execution_count": 4,
      "outputs": [
        {
          "output_type": "stream",
          "name": "stdout",
          "text": [
            "Print your name in uppercase, lowercase and titlecase\n",
            "Enter your name: shivraj\n",
            "SHIVRAJ\n",
            "shivraj\n",
            "Shivraj\n"
          ]
        }
      ]
    }
  ]
}