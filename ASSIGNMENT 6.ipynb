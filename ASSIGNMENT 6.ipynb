{
  "nbformat": 4,
  "nbformat_minor": 0,
  "metadata": {
    "colab": {
      "name": "Untitled9.ipynb",
      "provenance": []
    },
    "kernelspec": {
      "name": "python3",
      "display_name": "Python 3"
    },
    "language_info": {
      "name": "python"
    }
  },
  "cells": [
    {
      "cell_type": "markdown",
      "source": [
        "# NAME - **SHIVRAJ NAKUM**\n",
        "\n",
        "# ROLL NO. - 21BCP125\n",
        "\n",
        "# DIV - 1 (G4)"
      ],
      "metadata": {
        "id": "kaV2JttXREvH"
      }
    },
    {
      "cell_type": "markdown",
      "source": [
        "QUESTION 1\n",
        "\n",
        "---\n",
        "\n"
      ],
      "metadata": {
        "id": "zrLMSStDRBuu"
      }
    },
    {
      "cell_type": "code",
      "execution_count": 1,
      "metadata": {
        "colab": {
          "base_uri": "https://localhost:8080/"
        },
        "id": "coaEjmgCOB1t",
        "outputId": "bf491eea-e90d-43fb-8896-85e0af70580b"
      },
      "outputs": [
        {
          "output_type": "stream",
          "name": "stdout",
          "text": [
            "['apple', 'watermelon']\n"
          ]
        }
      ],
      "source": [
        "mylist = [\"apple\", \"banana\", \"cherry\"]\n",
        "mylist[1:3] = [\"watermelon\"]\n",
        "print(mylist)"
      ]
    },
    {
      "cell_type": "code",
      "source": [
        "mylist = [\"apple\", \"banana\", \"cherry\"]\n",
        "mylist.insert(2, \"watermelon\")\n",
        "print(mylist)"
      ],
      "metadata": {
        "colab": {
          "base_uri": "https://localhost:8080/"
        },
        "id": "o-VAR2sDOMB0",
        "outputId": "427530e2-98cb-4986-e940-e62aae9e0b9f"
      },
      "execution_count": 2,
      "outputs": [
        {
          "output_type": "stream",
          "name": "stdout",
          "text": [
            "['apple', 'banana', 'watermelon', 'cherry']\n"
          ]
        }
      ]
    },
    {
      "cell_type": "code",
      "source": [
        "mylist = [\"apple\", \"banana\", \"cherry\"]\n",
        "mylist.append(\"orange\")\n",
        "print(mylist)"
      ],
      "metadata": {
        "colab": {
          "base_uri": "https://localhost:8080/"
        },
        "id": "ZxChahmkOQfI",
        "outputId": "05ebcf13-321e-498a-878e-56d31757764d"
      },
      "execution_count": 3,
      "outputs": [
        {
          "output_type": "stream",
          "name": "stdout",
          "text": [
            "['apple', 'banana', 'cherry', 'orange']\n"
          ]
        }
      ]
    },
    {
      "cell_type": "code",
      "source": [
        "mylist = [\"apple\", \"banana\", \"cherry\"]\n",
        "morefruits = [\"mango\", \"pineapple\", \"papaya\"]\n",
        "mylist.extend(morefruits)\n",
        "print(mylist)"
      ],
      "metadata": {
        "colab": {
          "base_uri": "https://localhost:8080/"
        },
        "id": "rvsvC5xdOWuX",
        "outputId": "248ceca5-039f-43b5-f6f1-808efb0d4a6e"
      },
      "execution_count": 4,
      "outputs": [
        {
          "output_type": "stream",
          "name": "stdout",
          "text": [
            "['apple', 'banana', 'cherry', 'mango', 'pineapple', 'papaya']\n"
          ]
        }
      ]
    },
    {
      "cell_type": "code",
      "source": [
        "mylist = [\"apple\", \"banana\", \"cherry\"]\n",
        "mytuple = (\"kiwi\", \"orange\")\n",
        "mylist.extend(mytuple)\n",
        "print(mylist)"
      ],
      "metadata": {
        "colab": {
          "base_uri": "https://localhost:8080/"
        },
        "id": "ICUvMlbiOZsc",
        "outputId": "661c03ce-be04-423d-9e72-74bcdc64a690"
      },
      "execution_count": 5,
      "outputs": [
        {
          "output_type": "stream",
          "name": "stdout",
          "text": [
            "['apple', 'banana', 'cherry', 'kiwi', 'orange']\n"
          ]
        }
      ]
    },
    {
      "cell_type": "code",
      "source": [
        "mylist = [\"apple\", \"banana\", \"cherry\"]\n",
        "mylist.remove(\"apple\")\n",
        "print(mylist)\n"
      ],
      "metadata": {
        "colab": {
          "base_uri": "https://localhost:8080/"
        },
        "id": "B62SzLRrOcyW",
        "outputId": "ab3bba5a-c595-4a1a-92dd-81c8bca3c372"
      },
      "execution_count": 6,
      "outputs": [
        {
          "output_type": "stream",
          "name": "stdout",
          "text": [
            "['banana', 'cherry']\n"
          ]
        }
      ]
    },
    {
      "cell_type": "code",
      "source": [
        "mylist = [\"apple\", \"banana\", \"cherry\"]\n",
        "mylist.pop(1)\n",
        "print(mylist)"
      ],
      "metadata": {
        "colab": {
          "base_uri": "https://localhost:8080/"
        },
        "id": "jl9jWQflOgrg",
        "outputId": "19a09083-5df0-467e-d9f8-b02b8e4217cf"
      },
      "execution_count": 7,
      "outputs": [
        {
          "output_type": "stream",
          "name": "stdout",
          "text": [
            "['apple', 'cherry']\n"
          ]
        }
      ]
    },
    {
      "cell_type": "code",
      "source": [
        "mylist = [\"apple\", \"banana\", \"cherry\"]\n",
        "del mylist[0]\n",
        "print(mylist)"
      ],
      "metadata": {
        "colab": {
          "base_uri": "https://localhost:8080/"
        },
        "id": "PFX8wed_OkEn",
        "outputId": "0e3b0858-e5fe-4724-c612-8ecc7cf1a53d"
      },
      "execution_count": 8,
      "outputs": [
        {
          "output_type": "stream",
          "name": "stdout",
          "text": [
            "['banana', 'cherry']\n"
          ]
        }
      ]
    },
    {
      "cell_type": "code",
      "source": [
        "mylist = [\"apple\", \"banana\", \"cherry\"]\n",
        "print(mylist)\n",
        "#del mylist\n",
        "# print(mylist)"
      ],
      "metadata": {
        "colab": {
          "base_uri": "https://localhost:8080/"
        },
        "id": "hirfhRpJOn4D",
        "outputId": "ebddfe8d-6c9a-4516-e992-d8e5113a98f9"
      },
      "execution_count": 9,
      "outputs": [
        {
          "output_type": "stream",
          "name": "stdout",
          "text": [
            "['apple', 'banana', 'cherry']\n"
          ]
        }
      ]
    },
    {
      "cell_type": "code",
      "source": [
        "mylist = [\"apple\", \"banana\", \"cherry\"]\n",
        "mylist.clear()\n",
        "print(mylist)"
      ],
      "metadata": {
        "colab": {
          "base_uri": "https://localhost:8080/"
        },
        "id": "jp050fMpOqhc",
        "outputId": "dec0d04d-c380-49ac-d013-537ef2ceafe0"
      },
      "execution_count": 10,
      "outputs": [
        {
          "output_type": "stream",
          "name": "stdout",
          "text": [
            "[]\n"
          ]
        }
      ]
    },
    {
      "cell_type": "code",
      "source": [
        "mylist = [\"apple\", \"banana\", \"cherry\"]\n",
        "for x in mylist:\n",
        "  print(x)"
      ],
      "metadata": {
        "colab": {
          "base_uri": "https://localhost:8080/"
        },
        "id": "tZ-8BbbiOuUL",
        "outputId": "8384291d-193d-4365-8be0-5076744fd218"
      },
      "execution_count": 11,
      "outputs": [
        {
          "output_type": "stream",
          "name": "stdout",
          "text": [
            "apple\n",
            "banana\n",
            "cherry\n"
          ]
        }
      ]
    },
    {
      "cell_type": "code",
      "source": [
        "mylist = [\"apple\", \"banana\", \"cherry\"]\n",
        "i = 0\n",
        "while i < len(mylist):\n",
        "  print(mylist[i])\n",
        "  i = i + 1"
      ],
      "metadata": {
        "colab": {
          "base_uri": "https://localhost:8080/"
        },
        "id": "8SLXCHkhOxfL",
        "outputId": "e89c8d8f-0887-480c-8f7d-3b5e288ac1d8"
      },
      "execution_count": 12,
      "outputs": [
        {
          "output_type": "stream",
          "name": "stdout",
          "text": [
            "apple\n",
            "banana\n",
            "cherry\n"
          ]
        }
      ]
    },
    {
      "cell_type": "code",
      "source": [
        "fruits = [\"apple\", \"banana\", \"cherry\", \"kiwi\", \"mango\"]\n",
        "newlist = []\n",
        "for x in fruits:\n",
        "  if \"a\" in x:\n",
        "   newlist.append(x)\n",
        "   print(newlist)"
      ],
      "metadata": {
        "colab": {
          "base_uri": "https://localhost:8080/"
        },
        "id": "9wgCSjEBO2F_",
        "outputId": "6344312e-f927-4456-9767-01e645f094e3"
      },
      "execution_count": 13,
      "outputs": [
        {
          "output_type": "stream",
          "name": "stdout",
          "text": [
            "['apple']\n",
            "['apple', 'banana']\n",
            "['apple', 'banana', 'mango']\n"
          ]
        }
      ]
    },
    {
      "cell_type": "code",
      "source": [
        "items = [\"apple\", \"banana\", \"carrot\", \"dragonfruit\", \"elephant\"]\n",
        "if \"elephant\" in items:\n",
        "     a=items.index(\"elephant\")\n",
        "print(a+1)\n",
        "newlist = ['hello' for x in items]\n",
        "print(newlist)"
      ],
      "metadata": {
        "colab": {
          "base_uri": "https://localhost:8080/"
        },
        "id": "7D8EUyqZO5Xb",
        "outputId": "38cf3d3e-7032-40e2-b365-85ecc0733f37"
      },
      "execution_count": 14,
      "outputs": [
        {
          "output_type": "stream",
          "name": "stdout",
          "text": [
            "5\n",
            "['hello', 'hello', 'hello', 'hello', 'hello']\n"
          ]
        }
      ]
    },
    {
      "cell_type": "code",
      "source": [
        "mytuple = (\"apple\", \"banana\", \"cherry\")\n",
        "print(mytuple)"
      ],
      "metadata": {
        "colab": {
          "base_uri": "https://localhost:8080/"
        },
        "id": "5_oonyV8O8fp",
        "outputId": "8a50dfc1-2cc2-4f8a-928f-a66c6ebf35f8"
      },
      "execution_count": 15,
      "outputs": [
        {
          "output_type": "stream",
          "name": "stdout",
          "text": [
            "('apple', 'banana', 'cherry')\n"
          ]
        }
      ]
    },
    {
      "cell_type": "code",
      "source": [
        "mytuple = (\"apple\", \"banana\", \"cherry\")\n",
        "print(mytuple[1])"
      ],
      "metadata": {
        "colab": {
          "base_uri": "https://localhost:8080/"
        },
        "id": "yqfaAL4OO9-v",
        "outputId": "9416c1a2-c0e9-478c-b647-a0cd7b5d8c16"
      },
      "execution_count": 16,
      "outputs": [
        {
          "output_type": "stream",
          "name": "stdout",
          "text": [
            "banana\n"
          ]
        }
      ]
    },
    {
      "cell_type": "code",
      "source": [
        "x = (\"apple\", \"banana\", \"cherry\")\n",
        "y = list(x)\n",
        "y[1] = \"kiwi\"\n",
        "x = tuple(y)\n",
        "print(x)"
      ],
      "metadata": {
        "colab": {
          "base_uri": "https://localhost:8080/"
        },
        "id": "aDL-MvY6PCnL",
        "outputId": "d5d607a5-b377-490e-dac6-93e3f7a7f1fd"
      },
      "execution_count": 17,
      "outputs": [
        {
          "output_type": "stream",
          "name": "stdout",
          "text": [
            "('apple', 'kiwi', 'cherry')\n"
          ]
        }
      ]
    },
    {
      "cell_type": "code",
      "source": [
        "mytuple = (\"apple\", \"banana\", \"cherry\")\n",
        "for x in mytuple:\n",
        " \n",
        " print(x)"
      ],
      "metadata": {
        "colab": {
          "base_uri": "https://localhost:8080/"
        },
        "id": "bCE2LDO1PFaZ",
        "outputId": "32900010-b64e-4799-cccd-52b67b05bba4"
      },
      "execution_count": 18,
      "outputs": [
        {
          "output_type": "stream",
          "name": "stdout",
          "text": [
            "apple\n",
            "banana\n",
            "cherry\n"
          ]
        }
      ]
    },
    {
      "cell_type": "code",
      "source": [
        "mytuple = (\"apple\", \"banana\", \"cherry\")\n",
        "for i in range(len(mytuple)):\n",
        "\n",
        " print(mytuple[i])"
      ],
      "metadata": {
        "colab": {
          "base_uri": "https://localhost:8080/"
        },
        "id": "hMEWcFzIPIPb",
        "outputId": "30e766af-9cc1-4d9d-d692-8421b195c374"
      },
      "execution_count": 19,
      "outputs": [
        {
          "output_type": "stream",
          "name": "stdout",
          "text": [
            "apple\n",
            "banana\n",
            "cherry\n"
          ]
        }
      ]
    },
    {
      "cell_type": "code",
      "source": [
        "tuple1 = (\"a\", \"b\" , \"c\")\n",
        "tuple2 = (1, 2, 3)\n",
        "tuple3 = tuple1 + tuple2\n",
        "print(tuple3)\n"
      ],
      "metadata": {
        "colab": {
          "base_uri": "https://localhost:8080/"
        },
        "id": "0iO2ZHsKPK05",
        "outputId": "c46f10f6-82c2-4315-d148-5314297a8df6"
      },
      "execution_count": 20,
      "outputs": [
        {
          "output_type": "stream",
          "name": "stdout",
          "text": [
            "('a', 'b', 'c', 1, 2, 3)\n"
          ]
        }
      ]
    },
    {
      "cell_type": "code",
      "source": [
        "fruits = (\"apple\", \"banana\", \"cherry\")\n",
        "mytuple = fruits *2\n",
        "print(mytuple)"
      ],
      "metadata": {
        "colab": {
          "base_uri": "https://localhost:8080/"
        },
        "id": "maIV-MaePPa6",
        "outputId": "00052ad1-22bc-4386-c50b-53caf3ec868e"
      },
      "execution_count": 21,
      "outputs": [
        {
          "output_type": "stream",
          "name": "stdout",
          "text": [
            "('apple', 'banana', 'cherry', 'apple', 'banana', 'cherry')\n"
          ]
        }
      ]
    },
    {
      "cell_type": "code",
      "source": [
        "myset = {\"apple\", \"banana\", \"cherry\"}\n",
        "print(myset)"
      ],
      "metadata": {
        "colab": {
          "base_uri": "https://localhost:8080/"
        },
        "id": "anvJdbe9PXRY",
        "outputId": "031f90c9-b87c-4e81-fb49-ca6f1c5a8821"
      },
      "execution_count": 22,
      "outputs": [
        {
          "output_type": "stream",
          "name": "stdout",
          "text": [
            "{'apple', 'cherry', 'banana'}\n"
          ]
        }
      ]
    },
    {
      "cell_type": "code",
      "source": [
        "myset = {\"apple\", \"banana\", \"cherry\"}\n",
        "for x in myset:\n",
        "\n",
        " print(x)"
      ],
      "metadata": {
        "colab": {
          "base_uri": "https://localhost:8080/"
        },
        "id": "xeCs6IZcPbJi",
        "outputId": "e1770890-1cf8-427a-bf58-31e828e8a249"
      },
      "execution_count": 23,
      "outputs": [
        {
          "output_type": "stream",
          "name": "stdout",
          "text": [
            "apple\n",
            "cherry\n",
            "banana\n"
          ]
        }
      ]
    },
    {
      "cell_type": "code",
      "source": [
        "myset = {\"apple\", \"banana\", \"cherry\"}\n",
        "myset.add(\"orange\")\n",
        "print(myset)"
      ],
      "metadata": {
        "colab": {
          "base_uri": "https://localhost:8080/"
        },
        "id": "2WYesDUXPctf",
        "outputId": "f0876886-b17e-4f53-9fe0-6b8733257d4f"
      },
      "execution_count": 24,
      "outputs": [
        {
          "output_type": "stream",
          "name": "stdout",
          "text": [
            "{'apple', 'cherry', 'banana', 'orange'}\n"
          ]
        }
      ]
    },
    {
      "cell_type": "code",
      "source": [
        "myset = {\"apple\", \"banana\", \"cherry\"}\n",
        "tropical = {\"pineapple\", \"mango\", \"papaya\"}\n",
        "myset.update(tropical)\n",
        "print(myset)"
      ],
      "metadata": {
        "colab": {
          "base_uri": "https://localhost:8080/"
        },
        "id": "tUWZlWCyPlak",
        "outputId": "e56e53d8-7987-491c-fcaa-83d2c363b0cc"
      },
      "execution_count": 25,
      "outputs": [
        {
          "output_type": "stream",
          "name": "stdout",
          "text": [
            "{'apple', 'cherry', 'banana', 'papaya', 'mango', 'pineapple'}\n"
          ]
        }
      ]
    },
    {
      "cell_type": "code",
      "source": [
        "myset = {\"apple\", \"banana\", \"cherry\"}\n",
        "myset.remove(\"banana\")\n",
        "print(myset)"
      ],
      "metadata": {
        "colab": {
          "base_uri": "https://localhost:8080/"
        },
        "id": "jHUMJg2dPqhA",
        "outputId": "070bedd4-7ab6-43cf-a054-2d527f7ac3cf"
      },
      "execution_count": 26,
      "outputs": [
        {
          "output_type": "stream",
          "name": "stdout",
          "text": [
            "{'apple', 'cherry'}\n"
          ]
        }
      ]
    },
    {
      "cell_type": "code",
      "source": [
        "myset = {\"apple\", \"banana\", \"cherry\"}\n",
        "myset.discard(\"banana\")\n",
        "print(myset)"
      ],
      "metadata": {
        "colab": {
          "base_uri": "https://localhost:8080/"
        },
        "id": "EOX_8Yi0PuOb",
        "outputId": "f0d3ac1f-7aaf-490c-fe62-5cc813d0bfb3"
      },
      "execution_count": 27,
      "outputs": [
        {
          "output_type": "stream",
          "name": "stdout",
          "text": [
            "{'apple', 'cherry'}\n"
          ]
        }
      ]
    },
    {
      "cell_type": "code",
      "source": [
        "myset = {\"apple\", \"banana\", \"cherry\"}\n",
        "for x in myset:\n",
        " \n",
        " print(x)"
      ],
      "metadata": {
        "colab": {
          "base_uri": "https://localhost:8080/"
        },
        "id": "ED_4aBi4P1LD",
        "outputId": "5bf06495-6e66-46b9-b0f2-1d1a47e5f408"
      },
      "execution_count": 28,
      "outputs": [
        {
          "output_type": "stream",
          "name": "stdout",
          "text": [
            "apple\n",
            "cherry\n",
            "banana\n"
          ]
        }
      ]
    },
    {
      "cell_type": "code",
      "source": [
        "set1 = {\"a\", \"b\" , \"c\"}\n",
        "set2 = {1, 2, 3}\n",
        "set3 = set1.union(set2)\n",
        "print(set3)"
      ],
      "metadata": {
        "colab": {
          "base_uri": "https://localhost:8080/"
        },
        "id": "9yduEKF_P473",
        "outputId": "4ccceef6-1246-494a-90f2-b52f5ee515f0"
      },
      "execution_count": 29,
      "outputs": [
        {
          "output_type": "stream",
          "name": "stdout",
          "text": [
            "{'a', 1, 'b', 2, 3, 'c'}\n"
          ]
        }
      ]
    },
    {
      "cell_type": "code",
      "source": [
        "thisdict = {\"brand\": \"Ford\",\"model\": \"Mustang\",\"year\": 1964}\n",
        "print(thisdict)\n",
        "print(thisdict[\"brand\"])"
      ],
      "metadata": {
        "colab": {
          "base_uri": "https://localhost:8080/"
        },
        "id": "SGYf9uO_QBEX",
        "outputId": "ef308949-3793-4277-d5bb-7b3aa81506aa"
      },
      "execution_count": 30,
      "outputs": [
        {
          "output_type": "stream",
          "name": "stdout",
          "text": [
            "{'brand': 'Ford', 'model': 'Mustang', 'year': 1964}\n",
            "Ford\n"
          ]
        }
      ]
    },
    {
      "cell_type": "code",
      "source": [
        "car={\"brand\": \"Ford\",\"model\": \"Mustang\",\"year\": 1964 }\n",
        "x= car.keys()\n",
        "print(x) #before the change\n",
        "car[\"color\"] = \"white\"\n",
        "print(x) #after the change"
      ],
      "metadata": {
        "colab": {
          "base_uri": "https://localhost:8080/"
        },
        "id": "cmOwWkTbQD3U",
        "outputId": "ddcf0635-e5ca-4ba5-f826-a7486c5a494d"
      },
      "execution_count": 31,
      "outputs": [
        {
          "output_type": "stream",
          "name": "stdout",
          "text": [
            "dict_keys(['brand', 'model', 'year'])\n",
            "dict_keys(['brand', 'model', 'year', 'color'])\n"
          ]
        }
      ]
    },
    {
      "cell_type": "markdown",
      "source": [
        "#QUESTION 2\n",
        "\n",
        "---\n",
        "\n"
      ],
      "metadata": {
        "id": "-LilvSnqQJWc"
      }
    },
    {
      "cell_type": "code",
      "source": [
        "d={}\n",
        "for i in range(1,11):\n",
        "   adm_no=int(input(\"enter admission number of students\"))\n",
        "   name=input(\"enter name of student:\")\n",
        "   d[adm_no]=name\n",
        "\n",
        "print(\"dictionaryis:\",d)\n"
      ],
      "metadata": {
        "colab": {
          "base_uri": "https://localhost:8080/"
        },
        "id": "5QaaK6VDQOlg",
        "outputId": "d837d754-e66a-4645-a050-97a4f95755a1"
      },
      "execution_count": 32,
      "outputs": [
        {
          "output_type": "stream",
          "name": "stdout",
          "text": [
            "enter admission number of students3\n",
            "enter name of student:raj\n",
            "enter admission number of students4\n",
            "enter name of student:jason\n",
            "enter admission number of students5\n",
            "enter name of student:roy\n",
            "enter admission number of students6\n",
            "enter name of student:dev\n",
            "enter admission number of students7\n",
            "enter name of student:ram\n",
            "enter admission number of students8\n",
            "enter name of student:sita\n",
            "enter admission number of students9\n",
            "enter name of student:pratik\n",
            "enter admission number of students10\n",
            "enter name of student:ramesh\n",
            "enter admission number of students11\n",
            "enter name of student:suresh\n",
            "enter admission number of students12\n",
            "enter name of student:tony\n",
            "dictionaryis: {3: 'raj', 4: 'jason', 5: 'roy', 6: 'dev', 7: 'ram', 8: 'sita', 9: 'pratik', 10: 'ramesh', 11: 'suresh', 12: 'tony'}\n"
          ]
        }
      ]
    }
  ]
}