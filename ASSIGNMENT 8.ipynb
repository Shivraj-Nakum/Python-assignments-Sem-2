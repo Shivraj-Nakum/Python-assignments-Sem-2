{
  "nbformat": 4,
  "nbformat_minor": 0,
  "metadata": {
    "colab": {
      "name": "Untitled11.ipynb",
      "provenance": []
    },
    "kernelspec": {
      "name": "python3",
      "display_name": "Python 3"
    },
    "language_info": {
      "name": "python"
    }
  },
  "cells": [
    {
      "cell_type": "markdown",
      "source": [
        "#Name - SHIVRAJ NAKUM\n",
        "\n",
        "#Roll No. - 21BCP125\n",
        "\n",
        "#DIV 1  \n",
        "#G4"
      ],
      "metadata": {
        "id": "4levl9FK8YXy"
      }
    },
    {
      "cell_type": "code",
      "execution_count": 1,
      "metadata": {
        "colab": {
          "base_uri": "https://localhost:8080/"
        },
        "id": "QLf9O7yH8Bqo",
        "outputId": "15fac559-6433-4e7a-9574-438725911d77"
      },
      "outputs": [
        {
          "output_type": "stream",
          "name": "stdout",
          "text": [
            "Dog has been created!!\n",
            "Scooby Doo is walking!\n",
            "Brown is color of this dog!\n",
            "Dog has been created!!\n",
            "Tommy is walking!\n",
            "White is color of this dog!\n"
          ]
        }
      ],
      "source": [
        "class Dog:\n",
        "  def __init__( self,n,sc,el,spot ):\n",
        "    self.name = n\n",
        "    self.skinColor = sc\n",
        "    self.earLength = el\n",
        "    self.isSpotted = spot\n",
        "    print(\"Dog has been created!!\")\n",
        "  def walk( self ):\n",
        "    print(\"{0} is walking!\".format(self.name))\n",
        "  def eat( self ):\n",
        "    print(\"{0} is eating!\".format(self.name))\n",
        "  def color(self):\n",
        "    print(\"{0} is color of this dog!\".format(self.skinColor))\n",
        "doggie1 = Dog( 'Scooby Doo', 'Brown', 'short',True )\n",
        "doggie1.walk()\n",
        "doggie1.color()\n",
        "doggie2 = Dog('Tommy', 'White', 'long', False)\n",
        "doggie2.walk()\n",
        "doggie2.color()"
      ]
    },
    {
      "cell_type": "code",
      "source": [
        "class Person:\n",
        "  def __init__(self, name,age):\n",
        "    self.name = name\n",
        "    self.age = age\n",
        "  def myfunc(self):\n",
        "    print(\"Hello my name is\" + self.name)\n",
        "p1 = Person(\"John\", 36)\n",
        "print(p1.name)\n",
        "print(p1.age)\n",
        "p1.myfunc()\n",
        "p1.age = 40\n",
        "print(p1.age)\n",
        "del p1.age\n",
        "del p1\n",
        "print(\"p1 age is removed\")"
      ],
      "metadata": {
        "colab": {
          "base_uri": "https://localhost:8080/"
        },
        "id": "FUmrPQ8s8IeH",
        "outputId": "b70c94ea-5322-4cef-8bd5-b4adf14e07f1"
      },
      "execution_count": 2,
      "outputs": [
        {
          "output_type": "stream",
          "name": "stdout",
          "text": [
            "John\n",
            "36\n",
            "Hello my name isJohn\n",
            "40\n",
            "p1 age is removed\n"
          ]
        }
      ]
    },
    {
      "cell_type": "code",
      "source": [
        "class Complex:\n",
        "  def __init__(self, real, imaginary):\n",
        "    self.real=real\n",
        "    self.imaginary = imaginary\n",
        "  def add(self, C1, C2):\n",
        "    sum=Complex(0, 0)\n",
        "    sum.real = C1.real + C2.real;\n",
        "    sum.imaginary = C1.imaginary + C2.imaginary;\n",
        "    return sum;\n",
        "C1=Complex(5,5)\n",
        "C2=Complex(2,1)\n",
        "print(\"Complex number :\", C1.real, \"+ i\", (C1.imaginary))\n",
        "print(\"Complex number :\", C2.real, \"+ i\", (C2.imaginary))\n",
        "C3=Complex(0,0)\n",
        "C3=C3.add(C1,C2)\n",
        "print(\"Sum of complex number :\", C3.real, \"+ i\", (C3.imaginary))"
      ],
      "metadata": {
        "colab": {
          "base_uri": "https://localhost:8080/"
        },
        "id": "cUeiy67k8P6-",
        "outputId": "c25bfc23-e600-430a-8c4b-30e0cf96a832"
      },
      "execution_count": 3,
      "outputs": [
        {
          "output_type": "stream",
          "name": "stdout",
          "text": [
            "Complex number : 5 + i 5\n",
            "Complex number : 2 + i 1\n",
            "Sum of complex number : 7 + i 6\n"
          ]
        }
      ]
    }
  ]
}